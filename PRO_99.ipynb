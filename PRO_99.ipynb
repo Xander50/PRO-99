{
  "nbformat": 4,
  "nbformat_minor": 0,
  "metadata": {
    "colab": {
      "provenance": [],
      "authorship_tag": "ABX9TyMWquQhKoZ88v2aLNGonfMo",
      "include_colab_link": true
    },
    "kernelspec": {
      "name": "python3",
      "display_name": "Python 3"
    },
    "language_info": {
      "name": "python"
    }
  },
  "cells": [
    {
      "cell_type": "markdown",
      "metadata": {
        "id": "view-in-github",
        "colab_type": "text"
      },
      "source": [
        "<a href=\"https://colab.research.google.com/github/Xander50/PRO-99/blob/main/PRO_99.ipynb\" target=\"_parent\"><img src=\"https://colab.research.google.com/assets/colab-badge.svg\" alt=\"Open In Colab\"/></a>"
      ]
    },
    {
      "cell_type": "code",
      "execution_count": null,
      "metadata": {
        "colab": {
          "base_uri": "https://localhost:8080/"
        },
        "id": "0x4x1vxec0Kn",
        "outputId": "4001be53-e179-451e-87ac-69a30754f0f1"
      },
      "outputs": [
        {
          "output_type": "stream",
          "name": "stdout",
          "text": [
            "ENTER YOUR NAME:Alexander\n",
            "A * * * * * * * * \n",
            "* l * * * * * * * \n",
            "* * e * * * * * * \n",
            "* * * x * * * * * \n",
            "* * * * a * * * * \n",
            "* * * * * n * * * \n",
            "* * * * * * d * * \n",
            "* * * * * * * e * \n",
            "* * * * * * * * r \n"
          ]
        }
      ],
      "source": [
        "name=input(\"ENTER YOUR NAME:\")\n",
        "iteration=len(name)\n",
        "for i in range(0,iteration):    \n",
        "  for j in range(0,iteration):\n",
        "    if(i==j):\n",
        "      print(name[i],end=\" \")\n",
        "    else:\n",
        "      print(\"*\",end=\" \")\n",
        "  print()"
      ]
    },
    {
      "cell_type": "code",
      "source": [],
      "metadata": {
        "colab": {
          "base_uri": "https://localhost:8080/",
          "height": 36
        },
        "id": "dGeTXpQHuNDK",
        "outputId": "0bea402c-9d90-415e-cab6-84f38d7e084d"
      },
      "execution_count": null,
      "outputs": [
        {
          "output_type": "execute_result",
          "data": {
            "text/plain": [
              "'J'"
            ],
            "application/vnd.google.colaboratory.intrinsic+json": {
              "type": "string"
            }
          },
          "metadata": {},
          "execution_count": 5
        }
      ]
    }
  ]
}